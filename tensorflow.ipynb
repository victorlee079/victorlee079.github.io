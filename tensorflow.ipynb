{
  "nbformat": 4,
  "nbformat_minor": 0,
  "metadata": {
    "colab": {
      "name": "cmsc5707.ipynb",
      "provenance": [],
      "collapsed_sections": [],
      "include_colab_link": true
    },
    "kernelspec": {
      "name": "python3",
      "display_name": "Python 3"
    }
  },
  "cells": [
    {
      "cell_type": "markdown",
      "metadata": {
        "id": "view-in-github",
        "colab_type": "text"
      },
      "source": [
        "<a href=\"https://colab.research.google.com/github/victorlee079/victorlee079.github.io/blob/main/tensorflow.ipynb\" target=\"_parent\"><img src=\"https://colab.research.google.com/assets/colab-badge.svg\" alt=\"Open In Colab\"/></a>"
      ]
    },
    {
      "cell_type": "code",
      "metadata": {
        "id": "qvJRtbblh0vB"
      },
      "source": [
        "from __future__ import absolute_import, division, print_function\n",
        "\n",
        "import tensorflow as tf\n",
        "from tensorflow import keras\n",
        "\n",
        "import os\n",
        "import sys\n",
        "import numpy as np\n",
        "from matplotlib import pyplot as plt\n",
        "\n",
        "#os.environ['CUDA_VISIBLE_DEVICES'] = '-1' # set to -1 denotes not to use GPU\n",
        "#os.environ['TF_CPP_MIN_LOG_LEVEL'] = '2'\n",
        "\n",
        "def plot_prediction(im, label, pred):\n",
        "\tplt.imshow(im, cmap='gray')\n",
        "\tplt.axis('off')\n",
        "\tplt.title('label = {}, pred = {}'.format(label, pred))\n",
        "\tplt.savefig('prediction.png')\t\n",
        "\n",
        "# load data\n",
        "fashion_mnist = keras.datasets.fashion_mnist\n",
        "\n",
        "(train_images, train_labels), (test_images, test_labels) = fashion_mnist.load_data()"
      ],
      "execution_count": null,
      "outputs": []
    },
    {
      "cell_type": "markdown",
      "metadata": {
        "id": "Mvlcn9W4pktE"
      },
      "source": [
        "Basic Network"
      ]
    },
    {
      "cell_type": "code",
      "metadata": {
        "id": "i5f-tcY4pgfF"
      },
      "source": [
        "# # network forward: baseline network is a two-layer network\n",
        "# model = keras.Sequential([\n",
        "#   tf.keras.layers.Flatten(input_shape=(28, 28)), # Reform the data to 1D array\n",
        "#   # Add Layers\n",
        "#   tf.keras.layers.Dense(128, activation='relu'),\n",
        "#   tf.keras.layers.Dense(128, activation='relu'),\n",
        "#   tf.keras.layers.Dense(128, activation='relu'),\n",
        "#   tf.keras.layers.Dense(128, activation='relu'),\n",
        "#   # End\n",
        "#   tf.keras.layers.Dense(10, activation='softmax')\n",
        "# ])"
      ],
      "execution_count": null,
      "outputs": []
    },
    {
      "cell_type": "markdown",
      "metadata": {
        "id": "g4Hu2coipny9"
      },
      "source": [
        "CNN"
      ]
    },
    {
      "cell_type": "code",
      "metadata": {
        "id": "h7Hhi-JBpqyZ"
      },
      "source": [
        "train_images = train_images.reshape((train_images.shape[0], 28, 28, 1))\n",
        "test_images = test_images.reshape((test_images.shape[0], 28, 28, 1))\n",
        "\n",
        "model = keras.Sequential([\n",
        "  tf.keras.layers.Conv2D(36, kernel_size=(3, 3), activation='relu', input_shape=(28, 28, 1)),\n",
        "  tf.keras.layers.MaxPooling2D(pool_size=(2, 2)),\n",
        "  tf.keras.layers.BatchNormalization(),\n",
        "  tf.keras.layers.Dropout(0.25),\n",
        "  tf.keras.layers.Conv2D(72, kernel_size=(3, 3), activation='relu'),\n",
        "  tf.keras.layers.MaxPooling2D(pool_size=(2, 2)),\n",
        "  tf.keras.layers.BatchNormalization(),\n",
        "  tf.keras.layers.Dropout(0.25),\n",
        "  tf.keras.layers.Flatten(),\n",
        "  tf.keras.layers.Dense(128, activation='relu'),\n",
        "  tf.keras.layers.Dense(64, activation='relu'),\n",
        "  tf.keras.layers.Dense(10, activation='softmax')\n",
        "])"
      ],
      "execution_count": null,
      "outputs": []
    },
    {
      "cell_type": "markdown",
      "metadata": {
        "id": "cgEnak4ULuVL"
      },
      "source": [
        "Compile and test"
      ]
    },
    {
      "cell_type": "code",
      "metadata": {
        "id": "CSOzvsyPqh-0",
        "outputId": "8738fd49-bb69-4ef9-aa1c-64800eae7636",
        "colab": {
          "base_uri": "https://localhost:8080/",
          "height": 425
        }
      },
      "source": [
        "# model compile: define optimizer & evaluation metrics\n",
        "model.compile(optimizer='adam',\n",
        "              loss='sparse_categorical_crossentropy',\n",
        "              metrics=['accuracy'])\n",
        "\n",
        "# train \n",
        "model.fit(train_images, train_labels, epochs=10)\n",
        "\n",
        "# test \n",
        "test_loss, test_acc = model.evaluate(test_images, test_labels, verbose=2)\n",
        "\n",
        "print('\\nTest accuracy:', test_acc)"
      ],
      "execution_count": null,
      "outputs": [
        {
          "output_type": "stream",
          "text": [
            "Train on 60000 samples\n",
            "Epoch 1/10\n",
            "60000/60000 [==============================] - 82s 1ms/sample - loss: 0.4100 - acc: 0.8490\n",
            "Epoch 2/10\n",
            "60000/60000 [==============================] - 82s 1ms/sample - loss: 0.3012 - acc: 0.8877\n",
            "Epoch 3/10\n",
            "60000/60000 [==============================] - 82s 1ms/sample - loss: 0.2684 - acc: 0.8987\n",
            "Epoch 4/10\n",
            "60000/60000 [==============================] - 82s 1ms/sample - loss: 0.2420 - acc: 0.9094\n",
            "Epoch 5/10\n",
            "60000/60000 [==============================] - 82s 1ms/sample - loss: 0.2270 - acc: 0.9131\n",
            "Epoch 6/10\n",
            "60000/60000 [==============================] - 82s 1ms/sample - loss: 0.2131 - acc: 0.9210\n",
            "Epoch 7/10\n",
            "60000/60000 [==============================] - 82s 1ms/sample - loss: 0.2001 - acc: 0.9248\n",
            "Epoch 8/10\n",
            "60000/60000 [==============================] - 82s 1ms/sample - loss: 0.1900 - acc: 0.9277\n",
            "Epoch 9/10\n",
            "60000/60000 [==============================] - 82s 1ms/sample - loss: 0.1812 - acc: 0.9323\n",
            "Epoch 10/10\n",
            "60000/60000 [==============================] - 83s 1ms/sample - loss: 0.1727 - acc: 0.9344\n",
            "10000/10000 - 4s - loss: 0.2591 - acc: 0.9105\n",
            "\n",
            "Test accuracy: 0.9105\n"
          ],
          "name": "stdout"
        }
      ]
    },
    {
      "cell_type": "markdown",
      "metadata": {
        "id": "wvPW_5LgLm9v"
      },
      "source": [
        "Basic Network Prediction"
      ]
    },
    {
      "cell_type": "code",
      "metadata": {
        "id": "VdjmdcgBLiMM"
      },
      "source": [
        "# # prediction using first test case\n",
        "# im = test_images[0]\n",
        "# label = test_labels[0]\n",
        "# pred = np.argmax(model.predict(im.reshape(1, 28, 28)))\n",
        "# plot_prediction(im, label, pred)"
      ],
      "execution_count": null,
      "outputs": []
    },
    {
      "cell_type": "markdown",
      "metadata": {
        "id": "tHIpXwOSL9wf"
      },
      "source": [
        "CNN Prediction"
      ]
    },
    {
      "cell_type": "code",
      "metadata": {
        "id": "_AhI8X0mL_dm",
        "outputId": "775d4763-cc26-43a3-b111-f8971c166598",
        "colab": {
          "base_uri": "https://localhost:8080/",
          "height": 264
        }
      },
      "source": [
        "# prediction using first test case\n",
        "im = test_images[0]\n",
        "label = test_labels[0]\n",
        "r_im = np.expand_dims(im, axis=0)\n",
        "pred = np.argmax(model.predict(r_im))\n",
        "plot_prediction(im.reshape(28, 28), label, pred)"
      ],
      "execution_count": null,
      "outputs": [
        {
          "output_type": "display_data",
          "data": {
            "image/png": "[encoded data removed]",
            "text/plain": [
              "<Figure size 432x288 with 1 Axes>"
            ]
          },
          "metadata": {
            "tags": []
          }
        }
      ]
    }
  ]
}