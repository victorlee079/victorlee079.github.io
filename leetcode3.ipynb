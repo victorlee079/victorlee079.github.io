{
  "nbformat": 4,
  "nbformat_minor": 0,
  "metadata": {
    "colab": {
      "name": "leetcode3.ipynb",
      "provenance": [],
      "authorship_tag": "ABX9TyMJZb0PLPJhbgNpUnHv2qng",
      "include_colab_link": true
    },
    "kernelspec": {
      "name": "python3",
      "display_name": "Python 3"
    },
    "language_info": {
      "name": "python"
    }
  },
  "cells": [
    {
      "cell_type": "markdown",
      "metadata": {
        "id": "view-in-github",
        "colab_type": "text"
      },
      "source": [
        "<a href=\"https://colab.research.google.com/github/victorlee079/victorlee079.github.io/blob/main/leetcode3.ipynb\" target=\"_parent\"><img src=\"https://colab.research.google.com/assets/colab-badge.svg\" alt=\"Open In Colab\"/></a>"
      ]
    },
    {
      "cell_type": "code",
      "execution_count": null,
      "metadata": {
        "colab": {
          "base_uri": "https://localhost:8080/"
        },
        "id": "q7G9rNGgRet2",
        "outputId": "92eadcda-b49e-49ea-ceea-4292cea214c1"
      },
      "outputs": [
        {
          "output_type": "stream",
          "name": "stdout",
          "text": [
            "[True, True, False]\n",
            "[False, False, False]\n",
            "[False, False, False]\n"
          ]
        },
        {
          "output_type": "execute_result",
          "data": {
            "text/plain": [
              "False"
            ]
          },
          "metadata": {},
          "execution_count": 10
        }
      ],
      "source": [
        "class Solution:\n",
        "    def isInterleave(self, s1, s2, s3):\n",
        "        if len(s1) + len(s2) != len(s3):\n",
        "            return False\n",
        "        \n",
        "        n1, n2 = len(s1)+1, len(s2)+1\n",
        "        dp = [False] * n2\n",
        "        for i in range(n1):\n",
        "            for j in range(n2):\n",
        "                if i == 0:\n",
        "                    if j == 0:\n",
        "                        dp[j] = True\n",
        "                    else:\n",
        "                        dp[j] = dp[j-1] and (s3[j-1] == s2[j-1])\n",
        "                else:\n",
        "                    if j == 0:\n",
        "                        dp[j] = dp[j] and (s3[i-1] == s1[i-1])\n",
        "                    else:\n",
        "                        dp[j] = (dp[j] and s3[i+j-1] == s1[i-1]) or (dp[j-1] and s3[i+j-1] == s2[j-1])\n",
        "        return dp[-1]\n",
        "    \n",
        "s = Solution()\n",
        "s.isInterleave(\"ab\", \"bc\", \"bbac\")"
      ]
    },
    {
      "cell_type": "code",
      "source": [
        "class Solution:\n",
        "    def isMatch(self, s, p):\n",
        "        ns, np = len(s)+1, len(p)+1\n",
        "        dp = [[False] * (np) for _ in range(ns)]\n",
        "        # dp = [[False] * (np)] * ns\n",
        "        # This does not work as the same array is copied for ns times\n",
        "        for i in range(ns):\n",
        "            for j in range(np):\n",
        "                if i == 0 and j == 0:\n",
        "                    dp[i][j] = True\n",
        "                elif i == 0:\n",
        "                    if p[j-1] == \"*\" and dp[i][j-1]:\n",
        "                        dp[i][j] = True\n",
        "                elif j == 0:\n",
        "                    dp[i][j] = False\n",
        "                else:\n",
        "                    if p[j-1] == \"?\" or p[j-1] == s[i-1]:\n",
        "                        dp[i][j] = dp[i-1][j-1] \n",
        "                    elif p[j-1] == \"*\":\n",
        "                        dp[i][j] = dp[i-1][j-1] or dp[i-1][j] or dp[i][j-1]\n",
        "                    else:\n",
        "                        dp[i][j] = False\n",
        "        return dp[-1][-1]\n",
        "\n",
        "s = Solution()\n",
        "s.isMatch(\"aa\" ,\"aa\")\n"
      ],
      "metadata": {
        "colab": {
          "base_uri": "https://localhost:8080/"
        },
        "id": "SaXucm7p1L6X",
        "outputId": "9e360bb8-01be-44f3-a8d9-3d41e4760cbd"
      },
      "execution_count": null,
      "outputs": [
        {
          "output_type": "stream",
          "name": "stdout",
          "text": [
            "[[False, False, False], [False, False, False], [False, False, False]]\n"
          ]
        },
        {
          "output_type": "execute_result",
          "data": {
            "text/plain": [
              "True"
            ]
          },
          "metadata": {},
          "execution_count": 6
        }
      ]
    },
    {
      "cell_type": "code",
      "source": [
        "dp = [[False] * 3] * 3\n",
        "print(dp)\n",
        "dp[0][0] = True\n",
        "print(dp)\n",
        "dp = [[]] * 3\n",
        "dp[0].append(1)\n",
        "print(dp)"
      ],
      "metadata": {
        "colab": {
          "base_uri": "https://localhost:8080/"
        },
        "id": "yG1ONkwocc-m",
        "outputId": "13687a9e-6803-48cd-d2cb-c4973f871467"
      },
      "execution_count": null,
      "outputs": [
        {
          "output_type": "stream",
          "name": "stdout",
          "text": [
            "[[False, False, False], [False, False, False], [False, False, False]]\n",
            "[[True, False, False], [True, False, False], [True, False, False]]\n",
            "[[1], [1], [1]]\n"
          ]
        }
      ]
    },
    {
      "cell_type": "code",
      "source": [
        "class Solution:\n",
        "    def partition(self, s):     \n",
        "        dp = [[False] * len(s) for _ in range(len(s))]\n",
        "        def backtrack(path, i, ret):\n",
        "            if i == len(s):\n",
        "                ret.append(path[::])\n",
        "                return\n",
        "            \n",
        "            for j in range(i, len(s)):\n",
        "                if s[i] == s[j] in d or isPalindrome(s[i:j+1]):\n",
        "                    dp[i][j] = True\n",
        "                    path.append(s[i:j+1])\n",
        "                    backtrack(path, j+1, ret)\n",
        "                    path.pop()\n",
        "            \n",
        "        ans = []\n",
        "        backtrack([], 0, ans)\n",
        "        return ans\n",
        "\n",
        "s = Solution()\n",
        "s.partition(\"a\")"
      ],
      "metadata": {
        "colab": {
          "base_uri": "https://localhost:8080/"
        },
        "id": "IkViGrXGLXFu",
        "outputId": "edf578fb-2411-4dd9-ba28-8cb8c8796d91"
      },
      "execution_count": null,
      "outputs": [
        {
          "output_type": "execute_result",
          "data": {
            "text/plain": [
              "[['a']]"
            ]
          },
          "metadata": {},
          "execution_count": 1
        }
      ]
    },
    {
      "cell_type": "code",
      "source": [
        "[[\"1\",\"0\",\"1\",\"0\",\"0\"],\n",
        " [\"1\",\"0\",\"1\",\"1\",\"1\"],\n",
        " [\"1\",\"1\",\"1\",\"1\",\"1\"],\n",
        " [\"1\",\"0\",\"0\",\"1\",\"0\"]]"
      ],
      "metadata": {
        "id": "LaEIjJfvUnKo"
      },
      "execution_count": null,
      "outputs": []
    }
  ]
}