{
  "nbformat": 4,
  "nbformat_minor": 0,
  "metadata": {
    "colab": {
      "name": "convolution.ipynb",
      "provenance": [],
      "collapsed_sections": [],
      "include_colab_link": true
    },
    "kernelspec": {
      "name": "python3",
      "display_name": "Python 3"
    }
  },
  "cells": [
    {
      "cell_type": "markdown",
      "metadata": {
        "id": "view-in-github",
        "colab_type": "text"
      },
      "source": [
        "<a href=\"https://colab.research.google.com/github/victorlee079/victorlee079.github.io/blob/main/convolution.ipynb\" target=\"_parent\"><img src=\"https://colab.research.google.com/assets/colab-badge.svg\" alt=\"Open In Colab\"/></a>"
      ]
    },
    {
      "cell_type": "code",
      "metadata": {
        "id": "Tz9a-_mzQZjP"
      },
      "source": [
        "import numpy as np\n",
        "from scipy import signal"
      ],
      "execution_count": null,
      "outputs": []
    },
    {
      "cell_type": "code",
      "metadata": {
        "id": "IV7eG4s_Qel1",
        "outputId": "bf19397c-1611-489f-ac87-4c74f582a68e",
        "colab": {
          "base_uri": "https://localhost:8080/",
          "height": 187
        }
      },
      "source": [
        "I = np.array([[2, 2, 2, 2], [2, 2, 2, 2], [2, 1, 2, 2], [2, 2, 2, 2]])\n",
        "HX = np.array([[-1, 0, 1], [-1, 0, 1], [-1, 0, 1]])\n",
        "HY = np.array([[1, 1, 1], [0, 0, 0], [-1, -1, -1]])\n",
        "print(I)\n",
        "print(HX)\n",
        "print(HY)"
      ],
      "execution_count": null,
      "outputs": [
        {
          "output_type": "stream",
          "text": [
            "[[2 2 2 2]\n",
            " [2 2 2 2]\n",
            " [2 1 2 2]\n",
            " [2 2 2 2]]\n",
            "[[-1  0  1]\n",
            " [-1  0  1]\n",
            " [-1  0  1]]\n",
            "[[ 1  1  1]\n",
            " [ 0  0  0]\n",
            " [-1 -1 -1]]\n"
          ],
          "name": "stdout"
        }
      ]
    },
    {
      "cell_type": "code",
      "metadata": {
        "id": "CWwNLaEGTC-c",
        "outputId": "1e80ff09-9ec6-4300-9fad-e364442b0c21",
        "colab": {
          "base_uri": "https://localhost:8080/",
          "height": 119
        }
      },
      "source": [
        "EX = signal.convolve2d(I, HX, 'valid')\n",
        "EY = signal.convolve2d(I, HY, 'valid')\n",
        "print(EX)\n",
        "print(EY)\n",
        "GX = np.sqrt(EX*EX+EY*EY)\n",
        "print(GX)"
      ],
      "execution_count": null,
      "outputs": [
        {
          "output_type": "stream",
          "text": [
            "[[ 0 -1]\n",
            " [ 0 -1]]\n",
            "[[-1 -1]\n",
            " [ 0  0]]\n",
            "[[1.         1.41421356]\n",
            " [0.         1.        ]]\n"
          ],
          "name": "stdout"
        }
      ]
    },
    {
      "cell_type": "code",
      "metadata": {
        "id": "CDuh73SX7g6n",
        "outputId": "56309721-32a1-44d4-f3b3-d4d48b774f50",
        "colab": {
          "base_uri": "https://localhost:8080/",
          "height": 102
        }
      },
      "source": [
        "I = np.array([[1, 0, 0, 0], [1, 1, 0 ,1], [0, 0, 1, 0], [1, 0, 1, 0]])\n",
        "H = np.array([[-1, 0], [0, 1]])\n",
        "\n",
        "print(signal.convolve2d(I, H))"
      ],
      "execution_count": null,
      "outputs": [
        {
          "output_type": "stream",
          "text": [
            "[[-1  0  0  0  0]\n",
            " [-1  0  0 -1  0]\n",
            " [ 0  1  0  0  1]\n",
            " [-1  0 -1  1  0]\n",
            " [ 0  1  0  1  0]]\n"
          ],
          "name": "stdout"
        }
      ]
    }
  ]
}